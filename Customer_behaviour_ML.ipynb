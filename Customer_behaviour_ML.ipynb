{
  "nbformat": 4,
  "nbformat_minor": 0,
  "metadata": {
    "colab": {
      "provenance": [],
      "authorship_tag": "ABX9TyPGSYnGlQKd6Boxm6ZphvqI",
      "include_colab_link": true
    },
    "kernelspec": {
      "name": "python3",
      "display_name": "Python 3"
    },
    "language_info": {
      "name": "python"
    }
  },
  "cells": [
    {
      "cell_type": "markdown",
      "metadata": {
        "id": "view-in-github",
        "colab_type": "text"
      },
      "source": [
        "<a href=\"https://colab.research.google.com/github/RafaelZveiter/HorizonGoods/blob/test/Customer_behaviour_ML.ipynb\" target=\"_parent\"><img src=\"https://colab.research.google.com/assets/colab-badge.svg\" alt=\"Open In Colab\"/></a>"
      ]
    },
    {
      "cell_type": "code",
      "execution_count": 4,
      "metadata": {
        "id": "SaKIe3oqQg27"
      },
      "outputs": [],
      "source": [
        "import pandas as pd"
      ]
    },
    {
      "cell_type": "code",
      "source": [
        "customers = pd.read_csv('/content/Amazon Customer Behavior Survey.csv')"
      ],
      "metadata": {
        "id": "K1ONjRHGQszH"
      },
      "execution_count": 6,
      "outputs": []
    },
    {
      "cell_type": "code",
      "source": [
        "customers.columns"
      ],
      "metadata": {
        "colab": {
          "base_uri": "https://localhost:8080/"
        },
        "id": "j0ZI3PN5Ubg_",
        "outputId": "08ea00d5-e7ce-4bb5-b96b-82e2dbbfc009"
      },
      "execution_count": 7,
      "outputs": [
        {
          "output_type": "execute_result",
          "data": {
            "text/plain": [
              "Index(['Timestamp', 'age', 'Gender', 'Purchase_Frequency',\n",
              "       'Purchase_Categories', 'Personalized_Recommendation_Frequency',\n",
              "       'Browsing_Frequency', 'Product_Search_Method',\n",
              "       'Search_Result_Exploration', 'Customer_Reviews_Importance',\n",
              "       'Add_to_Cart_Browsing', 'Cart_Completion_Frequency',\n",
              "       'Cart_Abandonment_Factors', 'Saveforlater_Frequency', 'Review_Left',\n",
              "       'Review_Reliability', 'Review_Helpfulness',\n",
              "       'Personalized_Recommendation_Frequency ', 'Recommendation_Helpfulness',\n",
              "       'Rating_Accuracy ', 'Shopping_Satisfaction', 'Service_Appreciation',\n",
              "       'Improvement_Areas'],\n",
              "      dtype='object')"
            ]
          },
          "metadata": {},
          "execution_count": 7
        }
      ]
    },
    {
      "cell_type": "code",
      "source": [
        "#customers_clean = customers[['age', 'Gender','Browsing_Frequency','Add_to_Cart_Browsing','Review_Reliability','Product_Search_Method','Saveforlater_Frequency','Purchase_Frequency' ]]"
      ],
      "metadata": {
        "id": "_fDOIHK4gEH9"
      },
      "execution_count": 8,
      "outputs": []
    },
    {
      "cell_type": "code",
      "source": [
        "customers_clean = customers[['age','Gender','Browsing_Frequency','Add_to_Cart_Browsing','Review_Reliability','Product_Search_Method','Saveforlater_Frequency','Purchase_Frequency' ]]"
      ],
      "metadata": {
        "id": "0YghU9eVQzv_"
      },
      "execution_count": 9,
      "outputs": []
    },
    {
      "cell_type": "code",
      "source": [
        "from sklearn.model_selection import train_test_split\n",
        "from sklearn.preprocessing import StandardScaler, OneHotEncoder, LabelEncoder\n",
        "from sklearn.linear_model import LogisticRegression\n",
        "\n",
        "scaler = StandardScaler()\n",
        "ohe = OneHotEncoder(handle_unknown = 'ignore', sparse_output=False)\n",
        "lab = LabelEncoder()\n",
        "log_reg = LogisticRegression(max_iter=1_000)\n",
        "\n",
        "X = customers_clean.drop(columns = 'Purchase_Frequency')\n",
        "y = customers_clean['Purchase_Frequency']\n",
        "\n",
        "y_enc = lab.fit_transform(y)\n",
        "\n",
        "X_train, X_test, y_train, y_test = train_test_split(X, y_enc, test_size = 0.2, random_state = 42)\n",
        "\n",
        "X_train_num = X_train[['age']]\n",
        "X_train_cat = X_train.drop(columns = 'age')\n",
        "X_test_num = X_test[['age']]\n",
        "X_test_cat = X_test.drop(columns = 'age')\n",
        "\n",
        "\n",
        "X_train_num_scaled = scaler.fit_transform(X_train_num)\n",
        "X_test_num_scaled = scaler.transform(X_test_num)\n",
        "\n",
        "X_train_cat_scaled = ohe.fit_transform(X_train_cat)\n",
        "X_test_cat_scaled = ohe.transform(X_test_cat)\n",
        "\n",
        "X_train_num_scaled = pd.DataFrame(X_train_num_scaled, columns=['age_scaled'], index=X_train.index)\n",
        "X_train_cat_scaled = pd.DataFrame(X_train_cat_scaled, columns=ohe.get_feature_names_out(X_train_cat.columns), index=X_train.index)\n",
        "\n",
        "X_test_num_scaled = pd.DataFrame(X_test_num_scaled, columns=['age_scaled'], index=X_test.index)\n",
        "X_test_cat_scaled = pd.DataFrame(X_test_cat_scaled, columns=ohe.get_feature_names_out(X_test_cat.columns), index=X_test.index)\n",
        "\n",
        "X_train_scaled = pd.concat([X_train_num_scaled, X_train_cat_scaled], axis=1)\n",
        "X_test_scaled = pd.concat([X_test_num_scaled, X_test_cat_scaled], axis=1)\n",
        "\n",
        "log_reg.fit(X_train_scaled, y_train)\n",
        "\n",
        "y_pred = log_reg.predict(X_test_scaled)\n",
        "print(log_reg.score(X_test_scaled, y_test))\n"
      ],
      "metadata": {
        "colab": {
          "base_uri": "https://localhost:8080/"
        },
        "id": "1WbmOXXgVRSP",
        "outputId": "6e5a8f86-b227-4e87-84c3-6864c4db1076"
      },
      "execution_count": 10,
      "outputs": [
        {
          "output_type": "stream",
          "name": "stdout",
          "text": [
            "0.39669421487603307\n"
          ]
        }
      ]
    },
    {
      "cell_type": "code",
      "source": [
        "lab.classes_"
      ],
      "metadata": {
        "colab": {
          "base_uri": "https://localhost:8080/"
        },
        "id": "fQOANdhmrCY2",
        "outputId": "a927306b-c196-4b28-eb7a-623bc2771fc9"
      },
      "execution_count": 11,
      "outputs": [
        {
          "output_type": "execute_result",
          "data": {
            "text/plain": [
              "array(['Few times a month', 'Less than once a month',\n",
              "       'Multiple times a week', 'Once a month', 'Once a week'],\n",
              "      dtype=object)"
            ]
          },
          "metadata": {},
          "execution_count": 11
        }
      ]
    },
    {
      "cell_type": "code",
      "source": [
        "pd.Series(y_enc).value_counts()"
      ],
      "metadata": {
        "colab": {
          "base_uri": "https://localhost:8080/",
          "height": 241
        },
        "id": "_03-moSej7kv",
        "outputId": "6a4bd751-6508-4f7e-da69-0943b4d0a491"
      },
      "execution_count": 12,
      "outputs": [
        {
          "output_type": "execute_result",
          "data": {
            "text/plain": [
              "0    203\n",
              "1    124\n",
              "4    112\n",
              "3    107\n",
              "2     56\n",
              "Name: count, dtype: int64"
            ],
            "text/html": [
              "<div>\n",
              "<style scoped>\n",
              "    .dataframe tbody tr th:only-of-type {\n",
              "        vertical-align: middle;\n",
              "    }\n",
              "\n",
              "    .dataframe tbody tr th {\n",
              "        vertical-align: top;\n",
              "    }\n",
              "\n",
              "    .dataframe thead th {\n",
              "        text-align: right;\n",
              "    }\n",
              "</style>\n",
              "<table border=\"1\" class=\"dataframe\">\n",
              "  <thead>\n",
              "    <tr style=\"text-align: right;\">\n",
              "      <th></th>\n",
              "      <th>count</th>\n",
              "    </tr>\n",
              "  </thead>\n",
              "  <tbody>\n",
              "    <tr>\n",
              "      <th>0</th>\n",
              "      <td>203</td>\n",
              "    </tr>\n",
              "    <tr>\n",
              "      <th>1</th>\n",
              "      <td>124</td>\n",
              "    </tr>\n",
              "    <tr>\n",
              "      <th>4</th>\n",
              "      <td>112</td>\n",
              "    </tr>\n",
              "    <tr>\n",
              "      <th>3</th>\n",
              "      <td>107</td>\n",
              "    </tr>\n",
              "    <tr>\n",
              "      <th>2</th>\n",
              "      <td>56</td>\n",
              "    </tr>\n",
              "  </tbody>\n",
              "</table>\n",
              "</div><br><label><b>dtype:</b> int64</label>"
            ]
          },
          "metadata": {},
          "execution_count": 12
        }
      ]
    },
    {
      "cell_type": "code",
      "source": [
        "y.value_counts()"
      ],
      "metadata": {
        "colab": {
          "base_uri": "https://localhost:8080/",
          "height": 272
        },
        "id": "VJVSxDGjreFm",
        "outputId": "e9711e12-a7a3-46f7-b163-efe6c07bfc84"
      },
      "execution_count": 13,
      "outputs": [
        {
          "output_type": "execute_result",
          "data": {
            "text/plain": [
              "Purchase_Frequency\n",
              "Few times a month         203\n",
              "Less than once a month    124\n",
              "Once a week               112\n",
              "Once a month              107\n",
              "Multiple times a week      56\n",
              "Name: count, dtype: int64"
            ],
            "text/html": [
              "<div>\n",
              "<style scoped>\n",
              "    .dataframe tbody tr th:only-of-type {\n",
              "        vertical-align: middle;\n",
              "    }\n",
              "\n",
              "    .dataframe tbody tr th {\n",
              "        vertical-align: top;\n",
              "    }\n",
              "\n",
              "    .dataframe thead th {\n",
              "        text-align: right;\n",
              "    }\n",
              "</style>\n",
              "<table border=\"1\" class=\"dataframe\">\n",
              "  <thead>\n",
              "    <tr style=\"text-align: right;\">\n",
              "      <th></th>\n",
              "      <th>count</th>\n",
              "    </tr>\n",
              "    <tr>\n",
              "      <th>Purchase_Frequency</th>\n",
              "      <th></th>\n",
              "    </tr>\n",
              "  </thead>\n",
              "  <tbody>\n",
              "    <tr>\n",
              "      <th>Few times a month</th>\n",
              "      <td>203</td>\n",
              "    </tr>\n",
              "    <tr>\n",
              "      <th>Less than once a month</th>\n",
              "      <td>124</td>\n",
              "    </tr>\n",
              "    <tr>\n",
              "      <th>Once a week</th>\n",
              "      <td>112</td>\n",
              "    </tr>\n",
              "    <tr>\n",
              "      <th>Once a month</th>\n",
              "      <td>107</td>\n",
              "    </tr>\n",
              "    <tr>\n",
              "      <th>Multiple times a week</th>\n",
              "      <td>56</td>\n",
              "    </tr>\n",
              "  </tbody>\n",
              "</table>\n",
              "</div><br><label><b>dtype:</b> int64</label>"
            ]
          },
          "metadata": {},
          "execution_count": 13
        }
      ]
    },
    {
      "cell_type": "code",
      "source": [
        "def predict_purchase_frequency (age,Gender,Browsing_Frequency,Add_to_Cart_Browsing,Review_Reliability,Product_Search_Method,Saveforlater_Frequency):\n",
        "  customer = pd.DataFrame({\n",
        "    \"age\": [age],\n",
        "    'Gender': [Gender],\n",
        "    \"Browsing_Frequency\": [Browsing_Frequency],\n",
        "    'Add_to_Cart_Browsing': [Add_to_Cart_Browsing],\n",
        "    \"Review_Reliability\": [Review_Reliability],\n",
        "    \"Product_Search_Method\":[Product_Search_Method],\n",
        "    'Saveforlater_Frequency': [Saveforlater_Frequency],\n",
        "  })\n",
        "  X_num = customer[['age']]\n",
        "  X_cat = customer.drop(columns= 'age')\n",
        "  X_num_scaled = scaler.transform(X_num)\n",
        "  X_cat_scaled = ohe.transform(X_cat)\n",
        "  X_num_scaled = pd.DataFrame(X_num_scaled, columns=['age_scaled'], index=X_num.index)\n",
        "  X_cat_scaled = pd.DataFrame(X_cat_scaled, columns=ohe.get_feature_names_out(X_cat.columns), index=X_cat.index)\n",
        "  X_scaled = pd.concat([X_num_scaled, X_cat_scaled], axis=1)\n",
        "\n",
        "  if log_reg.predict(X_scaled) == 0:\n",
        "    return \"Purchase frequency: Few times a month\"\n",
        "  elif log_reg.predict(X_scaled) == 1:\n",
        "    return 'Purchase frequency: Less than once a month'\n",
        "  elif log_reg.predict(X_scaled) == 2:\n",
        "    return 'Purchase frequency: Multiple times a week'\n",
        "  elif log_reg.predict(X_scaled) == 3:\n",
        "    return 'Purchase frequency: Once a month'\n",
        "  elif log_reg.predict(X_scaled) == 4:\n",
        "    return 'Purchase frequency: Once a week'\n",
        "\n",
        "\n",
        "\n"
      ],
      "metadata": {
        "id": "Wyv9102BWaNg"
      },
      "execution_count": 14,
      "outputs": []
    },
    {
      "cell_type": "code",
      "source": [
        "# @title Texto de título padrão\n",
        "Age = 35 # @param {\"type\":\"integer\"}\n",
        "Gender = \"Male\" # @param {\"type\":\"string\"}\n",
        "Browsing_Frequency = \"Few times a week\" # @param {\"type\":\"string\"}\n",
        "Add_to_Cart_Browsing = \"No\" # @param {\"type\":\"string\"}\n",
        "Review_Reliability = \"Moderately\" # @param {\"type\":\"string\"}\n",
        "Product_Search_Method = \"Keyword\" # @param {\"type\":\"string\"}\n",
        "Saveforlater_Frequency = \"Sometimes\" # @param {\"type\":\"string\"}\n",
        "\n",
        "predict_purchase_frequency(Age,Gender,Browsing_Frequency,Add_to_Cart_Browsing,Review_Reliability,Product_Search_Method,Saveforlater_Frequency)"
      ],
      "metadata": {
        "colab": {
          "base_uri": "https://localhost:8080/",
          "height": 36
        },
        "id": "MCbt6noqj-sN",
        "outputId": "cd7ee48e-3209-4b1f-c787-554625250dcf"
      },
      "execution_count": 16,
      "outputs": [
        {
          "output_type": "execute_result",
          "data": {
            "text/plain": [
              "'Purchase frequency: Few times a month'"
            ],
            "application/vnd.google.colaboratory.intrinsic+json": {
              "type": "string"
            }
          },
          "metadata": {},
          "execution_count": 16
        }
      ]
    },
    {
      "cell_type": "code",
      "source": [
        "#customers_clean_2 = customers[['age',\n",
        " #                              'Gender',\n",
        "  #                             'Browsing_Frequency',\n",
        "   #                            'Personalized_Recommendation_Frequency',\n",
        "    #                           'Review_Reliability',\n",
        "     #                          'Search_Result_Exploration',\n",
        "      #                         'Cart_Completion_Frequency',\n",
        "       #                        'Customer_Reviews_Importance',\n",
        "        #                       'Cart_Abandonment_Factors',\n",
        "         #                      'Purchase_Frequency',\n",
        "          #                     'Recommendation_Helpfulness',\n",
        "           #                    'Shopping_Satisfaction'\n",
        "            #                   ]]\n",
        "#customers_clean_3 = customers.drop(columns = ['Timestamp'])"
      ],
      "metadata": {
        "id": "nXBql-ATbh0Q"
      },
      "execution_count": 19,
      "outputs": []
    },
    {
      "cell_type": "code",
      "source": [
        "#X = customers_clean.drop(columns = 'Shopping_Satisfaction')\n",
        "#y = customers_clean['Shopping_Satisfaction']\n",
        "\n",
        "#y_enc = lab.fit_transform(y)\n",
        "\n",
        "#X_train, X_test, y_train, y_test = train_test_split(X, y_enc, test_size = 0.2, random_state = 42)\n",
        "\n",
        "#X_train_num = X_train[['age']]\n",
        "#X_train_cat = X_train.drop(columns = 'age')\n",
        "#X_test_num = X_test[['age']]\n",
        "#X_test_cat = X_test.drop(columns = 'age')\n",
        "\n",
        "\n",
        "#X_train_num_scaled = scaler.fit_transform(X_train_num)\n",
        "#X_test_num_scaled = scaler.transform(X_test_num)\n",
        "\n",
        "#X_train_cat_scaled = ohe.fit_transform(X_train_cat)\n",
        "#X_test_cat_scaled = ohe.transform(X_test_cat)\n",
        "\n",
        "#X_train_num_scaled = pd.DataFrame(X_train_num_scaled, columns=['age_scaled'], index=X_train.index)\n",
        "#X_train_cat_scaled = pd.DataFrame(X_train_cat_scaled, columns=ohe.get_feature_names_out(X_train_cat.columns), index=X_train.index)\n",
        "\n",
        "#X_test_num_scaled = pd.DataFrame(X_test_num_scaled, columns=['age_scaled'], index=X_test.index)\n",
        "#X_test_cat_scaled = pd.DataFrame(X_test_cat_scaled, columns=ohe.get_feature_names_out(X_test_cat.columns), index=X_test.index)\n",
        "\n",
        "#X_train_scaled = pd.concat([X_train_num_scaled, X_train_cat_scaled], axis=1)\n",
        "#X_test_scaled = pd.concat([X_test_num_scaled, X_test_cat_scaled], axis=1)\n",
        "\n",
        "#log_reg.fit(X_train_scaled, y_train)\n",
        "\n",
        "#y_pred = log_reg.predict(X_test_scaled)\n",
        "#print(log_reg.score(X_test_scaled, y_test))"
      ],
      "metadata": {
        "colab": {
          "base_uri": "https://localhost:8080/",
          "height": 371
        },
        "id": "IMTSWIiE0gFA",
        "outputId": "ea72c5b2-0ef2-4961-a371-5b28f29a4c6f"
      },
      "execution_count": 20,
      "outputs": [
        {
          "output_type": "error",
          "ename": "KeyError",
          "evalue": "\"['Shopping_Satisfaction'] not found in axis\"",
          "traceback": [
            "\u001b[0;31m---------------------------------------------------------------------------\u001b[0m",
            "\u001b[0;31mKeyError\u001b[0m                                  Traceback (most recent call last)",
            "\u001b[0;32m<ipython-input-20-4e0987931f3f>\u001b[0m in \u001b[0;36m<cell line: 1>\u001b[0;34m()\u001b[0m\n\u001b[0;32m----> 1\u001b[0;31m \u001b[0mX\u001b[0m \u001b[0;34m=\u001b[0m \u001b[0mcustomers_clean\u001b[0m\u001b[0;34m.\u001b[0m\u001b[0mdrop\u001b[0m\u001b[0;34m(\u001b[0m\u001b[0mcolumns\u001b[0m \u001b[0;34m=\u001b[0m \u001b[0;34m'Shopping_Satisfaction'\u001b[0m\u001b[0;34m)\u001b[0m\u001b[0;34m\u001b[0m\u001b[0;34m\u001b[0m\u001b[0m\n\u001b[0m\u001b[1;32m      2\u001b[0m \u001b[0my\u001b[0m \u001b[0;34m=\u001b[0m \u001b[0mcustomers_clean\u001b[0m\u001b[0;34m[\u001b[0m\u001b[0;34m'Shopping_Satisfaction'\u001b[0m\u001b[0;34m]\u001b[0m\u001b[0;34m\u001b[0m\u001b[0;34m\u001b[0m\u001b[0m\n\u001b[1;32m      3\u001b[0m \u001b[0;34m\u001b[0m\u001b[0m\n\u001b[1;32m      4\u001b[0m \u001b[0my_enc\u001b[0m \u001b[0;34m=\u001b[0m \u001b[0mlab\u001b[0m\u001b[0;34m.\u001b[0m\u001b[0mfit_transform\u001b[0m\u001b[0;34m(\u001b[0m\u001b[0my\u001b[0m\u001b[0;34m)\u001b[0m\u001b[0;34m\u001b[0m\u001b[0;34m\u001b[0m\u001b[0m\n\u001b[1;32m      5\u001b[0m \u001b[0;34m\u001b[0m\u001b[0m\n",
            "\u001b[0;32m/usr/local/lib/python3.10/dist-packages/pandas/core/frame.py\u001b[0m in \u001b[0;36mdrop\u001b[0;34m(self, labels, axis, index, columns, level, inplace, errors)\u001b[0m\n\u001b[1;32m   5579\u001b[0m                 \u001b[0mweight\u001b[0m  \u001b[0;36m1.0\u001b[0m     \u001b[0;36m0.8\u001b[0m\u001b[0;34m\u001b[0m\u001b[0;34m\u001b[0m\u001b[0m\n\u001b[1;32m   5580\u001b[0m         \"\"\"\n\u001b[0;32m-> 5581\u001b[0;31m         return super().drop(\n\u001b[0m\u001b[1;32m   5582\u001b[0m             \u001b[0mlabels\u001b[0m\u001b[0;34m=\u001b[0m\u001b[0mlabels\u001b[0m\u001b[0;34m,\u001b[0m\u001b[0;34m\u001b[0m\u001b[0;34m\u001b[0m\u001b[0m\n\u001b[1;32m   5583\u001b[0m             \u001b[0maxis\u001b[0m\u001b[0;34m=\u001b[0m\u001b[0maxis\u001b[0m\u001b[0;34m,\u001b[0m\u001b[0;34m\u001b[0m\u001b[0;34m\u001b[0m\u001b[0m\n",
            "\u001b[0;32m/usr/local/lib/python3.10/dist-packages/pandas/core/generic.py\u001b[0m in \u001b[0;36mdrop\u001b[0;34m(self, labels, axis, index, columns, level, inplace, errors)\u001b[0m\n\u001b[1;32m   4786\u001b[0m         \u001b[0;32mfor\u001b[0m \u001b[0maxis\u001b[0m\u001b[0;34m,\u001b[0m \u001b[0mlabels\u001b[0m \u001b[0;32min\u001b[0m \u001b[0maxes\u001b[0m\u001b[0;34m.\u001b[0m\u001b[0mitems\u001b[0m\u001b[0;34m(\u001b[0m\u001b[0;34m)\u001b[0m\u001b[0;34m:\u001b[0m\u001b[0;34m\u001b[0m\u001b[0;34m\u001b[0m\u001b[0m\n\u001b[1;32m   4787\u001b[0m             \u001b[0;32mif\u001b[0m \u001b[0mlabels\u001b[0m \u001b[0;32mis\u001b[0m \u001b[0;32mnot\u001b[0m \u001b[0;32mNone\u001b[0m\u001b[0;34m:\u001b[0m\u001b[0;34m\u001b[0m\u001b[0;34m\u001b[0m\u001b[0m\n\u001b[0;32m-> 4788\u001b[0;31m                 \u001b[0mobj\u001b[0m \u001b[0;34m=\u001b[0m \u001b[0mobj\u001b[0m\u001b[0;34m.\u001b[0m\u001b[0m_drop_axis\u001b[0m\u001b[0;34m(\u001b[0m\u001b[0mlabels\u001b[0m\u001b[0;34m,\u001b[0m \u001b[0maxis\u001b[0m\u001b[0;34m,\u001b[0m \u001b[0mlevel\u001b[0m\u001b[0;34m=\u001b[0m\u001b[0mlevel\u001b[0m\u001b[0;34m,\u001b[0m \u001b[0merrors\u001b[0m\u001b[0;34m=\u001b[0m\u001b[0merrors\u001b[0m\u001b[0;34m)\u001b[0m\u001b[0;34m\u001b[0m\u001b[0;34m\u001b[0m\u001b[0m\n\u001b[0m\u001b[1;32m   4789\u001b[0m \u001b[0;34m\u001b[0m\u001b[0m\n\u001b[1;32m   4790\u001b[0m         \u001b[0;32mif\u001b[0m \u001b[0minplace\u001b[0m\u001b[0;34m:\u001b[0m\u001b[0;34m\u001b[0m\u001b[0;34m\u001b[0m\u001b[0m\n",
            "\u001b[0;32m/usr/local/lib/python3.10/dist-packages/pandas/core/generic.py\u001b[0m in \u001b[0;36m_drop_axis\u001b[0;34m(self, labels, axis, level, errors, only_slice)\u001b[0m\n\u001b[1;32m   4828\u001b[0m                 \u001b[0mnew_axis\u001b[0m \u001b[0;34m=\u001b[0m \u001b[0maxis\u001b[0m\u001b[0;34m.\u001b[0m\u001b[0mdrop\u001b[0m\u001b[0;34m(\u001b[0m\u001b[0mlabels\u001b[0m\u001b[0;34m,\u001b[0m \u001b[0mlevel\u001b[0m\u001b[0;34m=\u001b[0m\u001b[0mlevel\u001b[0m\u001b[0;34m,\u001b[0m \u001b[0merrors\u001b[0m\u001b[0;34m=\u001b[0m\u001b[0merrors\u001b[0m\u001b[0;34m)\u001b[0m\u001b[0;34m\u001b[0m\u001b[0;34m\u001b[0m\u001b[0m\n\u001b[1;32m   4829\u001b[0m             \u001b[0;32melse\u001b[0m\u001b[0;34m:\u001b[0m\u001b[0;34m\u001b[0m\u001b[0;34m\u001b[0m\u001b[0m\n\u001b[0;32m-> 4830\u001b[0;31m                 \u001b[0mnew_axis\u001b[0m \u001b[0;34m=\u001b[0m \u001b[0maxis\u001b[0m\u001b[0;34m.\u001b[0m\u001b[0mdrop\u001b[0m\u001b[0;34m(\u001b[0m\u001b[0mlabels\u001b[0m\u001b[0;34m,\u001b[0m \u001b[0merrors\u001b[0m\u001b[0;34m=\u001b[0m\u001b[0merrors\u001b[0m\u001b[0;34m)\u001b[0m\u001b[0;34m\u001b[0m\u001b[0;34m\u001b[0m\u001b[0m\n\u001b[0m\u001b[1;32m   4831\u001b[0m             \u001b[0mindexer\u001b[0m \u001b[0;34m=\u001b[0m \u001b[0maxis\u001b[0m\u001b[0;34m.\u001b[0m\u001b[0mget_indexer\u001b[0m\u001b[0;34m(\u001b[0m\u001b[0mnew_axis\u001b[0m\u001b[0;34m)\u001b[0m\u001b[0;34m\u001b[0m\u001b[0;34m\u001b[0m\u001b[0m\n\u001b[1;32m   4832\u001b[0m \u001b[0;34m\u001b[0m\u001b[0m\n",
            "\u001b[0;32m/usr/local/lib/python3.10/dist-packages/pandas/core/indexes/base.py\u001b[0m in \u001b[0;36mdrop\u001b[0;34m(self, labels, errors)\u001b[0m\n\u001b[1;32m   7068\u001b[0m         \u001b[0;32mif\u001b[0m \u001b[0mmask\u001b[0m\u001b[0;34m.\u001b[0m\u001b[0many\u001b[0m\u001b[0;34m(\u001b[0m\u001b[0;34m)\u001b[0m\u001b[0;34m:\u001b[0m\u001b[0;34m\u001b[0m\u001b[0;34m\u001b[0m\u001b[0m\n\u001b[1;32m   7069\u001b[0m             \u001b[0;32mif\u001b[0m \u001b[0merrors\u001b[0m \u001b[0;34m!=\u001b[0m \u001b[0;34m\"ignore\"\u001b[0m\u001b[0;34m:\u001b[0m\u001b[0;34m\u001b[0m\u001b[0;34m\u001b[0m\u001b[0m\n\u001b[0;32m-> 7070\u001b[0;31m                 \u001b[0;32mraise\u001b[0m \u001b[0mKeyError\u001b[0m\u001b[0;34m(\u001b[0m\u001b[0;34mf\"{labels[mask].tolist()} not found in axis\"\u001b[0m\u001b[0;34m)\u001b[0m\u001b[0;34m\u001b[0m\u001b[0;34m\u001b[0m\u001b[0m\n\u001b[0m\u001b[1;32m   7071\u001b[0m             \u001b[0mindexer\u001b[0m \u001b[0;34m=\u001b[0m \u001b[0mindexer\u001b[0m\u001b[0;34m[\u001b[0m\u001b[0;34m~\u001b[0m\u001b[0mmask\u001b[0m\u001b[0;34m]\u001b[0m\u001b[0;34m\u001b[0m\u001b[0;34m\u001b[0m\u001b[0m\n\u001b[1;32m   7072\u001b[0m         \u001b[0;32mreturn\u001b[0m \u001b[0mself\u001b[0m\u001b[0;34m.\u001b[0m\u001b[0mdelete\u001b[0m\u001b[0;34m(\u001b[0m\u001b[0mindexer\u001b[0m\u001b[0;34m)\u001b[0m\u001b[0;34m\u001b[0m\u001b[0;34m\u001b[0m\u001b[0m\n",
            "\u001b[0;31mKeyError\u001b[0m: \"['Shopping_Satisfaction'] not found in axis\""
          ]
        }
      ]
    }
  ]
}