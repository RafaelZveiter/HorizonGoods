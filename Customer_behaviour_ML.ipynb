{
  "nbformat": 4,
  "nbformat_minor": 0,
  "metadata": {
    "colab": {
      "provenance": [],
      "authorship_tag": "ABX9TyN0pr9KQ+231U1zrhOtZzbb",
      "include_colab_link": true
    },
    "kernelspec": {
      "name": "python3",
      "display_name": "Python 3"
    },
    "language_info": {
      "name": "python"
    }
  },
  "cells": [
    {
      "cell_type": "markdown",
      "metadata": {
        "id": "view-in-github",
        "colab_type": "text"
      },
      "source": [
        "<a href=\"https://colab.research.google.com/github/RafaelZveiter/HorizonGoods/blob/main/Customer_behaviour_ML.ipynb\" target=\"_parent\"><img src=\"https://colab.research.google.com/assets/colab-badge.svg\" alt=\"Open In Colab\"/></a>"
      ]
    },
    {
      "cell_type": "code",
      "execution_count": null,
      "metadata": {
        "id": "SaKIe3oqQg27"
      },
      "outputs": [],
      "source": [
        "import pandas as pd"
      ]
    },
    {
      "cell_type": "code",
      "source": [
        "customers = pd.read_csv('/content/Amazon Customer Behavior Survey.csv')"
      ],
      "metadata": {
        "id": "K1ONjRHGQszH"
      },
      "execution_count": null,
      "outputs": []
    },
    {
      "cell_type": "code",
      "source": [
        "customers.columns"
      ],
      "metadata": {
        "colab": {
          "base_uri": "https://localhost:8080/"
        },
        "id": "j0ZI3PN5Ubg_",
        "outputId": "f843be4f-6f18-47c4-9385-e46656a68d81",
        "collapsed": true
      },
      "execution_count": null,
      "outputs": [
        {
          "output_type": "execute_result",
          "data": {
            "text/plain": [
              "Index(['Timestamp', 'age', 'Gender', 'Purchase_Frequency',\n",
              "       'Purchase_Categories', 'Personalized_Recommendation_Frequency',\n",
              "       'Browsing_Frequency', 'Product_Search_Method',\n",
              "       'Search_Result_Exploration', 'Customer_Reviews_Importance',\n",
              "       'Add_to_Cart_Browsing', 'Cart_Completion_Frequency',\n",
              "       'Cart_Abandonment_Factors', 'Saveforlater_Frequency', 'Review_Left',\n",
              "       'Review_Reliability', 'Review_Helpfulness',\n",
              "       'Personalized_Recommendation_Frequency ', 'Recommendation_Helpfulness',\n",
              "       'Rating_Accuracy ', 'Shopping_Satisfaction', 'Service_Appreciation',\n",
              "       'Improvement_Areas'],\n",
              "      dtype='object')"
            ]
          },
          "metadata": {},
          "execution_count": 3
        }
      ]
    },
    {
      "cell_type": "code",
      "source": [
        "customers['Product_Search_Method'] = customers['Product_Search_Method'].fillna('others')"
      ],
      "metadata": {
        "id": "XI77ByGSuX72"
      },
      "execution_count": null,
      "outputs": []
    },
    {
      "cell_type": "code",
      "source": [
        "customers_clean = customers[['age','Gender','Browsing_Frequency','Add_to_Cart_Browsing','Review_Reliability','Product_Search_Method','Saveforlater_Frequency','Purchase_Frequency' ]]"
      ],
      "metadata": {
        "id": "0YghU9eVQzv_"
      },
      "execution_count": null,
      "outputs": []
    },
    {
      "cell_type": "code",
      "source": [
        "from sklearn.model_selection import train_test_split\n",
        "from sklearn.preprocessing import StandardScaler, OneHotEncoder, LabelEncoder\n",
        "from sklearn.linear_model import LogisticRegression\n",
        "\n",
        "scaler = StandardScaler()\n",
        "ohe = OneHotEncoder(handle_unknown = 'ignore', sparse_output=False)\n",
        "lab = LabelEncoder()\n",
        "log_reg = LogisticRegression(max_iter=1_000)\n",
        "\n",
        "X = customers_clean.drop(columns = 'Purchase_Frequency')\n",
        "y = customers_clean['Purchase_Frequency']\n",
        "\n",
        "y_enc = lab.fit_transform(y)\n",
        "\n",
        "X_train, X_test, y_train, y_test = train_test_split(X, y_enc, test_size = 0.2, random_state = 42)\n",
        "\n",
        "X_train_num = X_train[['age']]\n",
        "X_train_cat = X_train.drop(columns = 'age')\n",
        "X_test_num = X_test[['age']]\n",
        "X_test_cat = X_test.drop(columns = 'age')\n",
        "\n",
        "\n",
        "X_train_num_scaled = scaler.fit_transform(X_train_num)\n",
        "X_test_num_scaled = scaler.transform(X_test_num)\n",
        "\n",
        "X_train_cat_scaled = ohe.fit_transform(X_train_cat)\n",
        "X_test_cat_scaled = ohe.transform(X_test_cat)\n",
        "\n",
        "X_train_num_scaled = pd.DataFrame(X_train_num_scaled, columns=['age_scaled'], index=X_train.index)\n",
        "X_train_cat_scaled = pd.DataFrame(X_train_cat_scaled, columns=ohe.get_feature_names_out(X_train_cat.columns), index=X_train.index)\n",
        "\n",
        "X_test_num_scaled = pd.DataFrame(X_test_num_scaled, columns=['age_scaled'], index=X_test.index)\n",
        "X_test_cat_scaled = pd.DataFrame(X_test_cat_scaled, columns=ohe.get_feature_names_out(X_test_cat.columns), index=X_test.index)\n",
        "\n",
        "X_train_scaled = pd.concat([X_train_num_scaled, X_train_cat_scaled], axis=1)\n",
        "X_test_scaled = pd.concat([X_test_num_scaled, X_test_cat_scaled], axis=1)\n",
        "\n",
        "log_reg.fit(X_train_scaled, y_train)\n",
        "\n",
        "y_pred = log_reg.predict(X_test_scaled)\n",
        "print(log_reg.score(X_test_scaled, y_test))\n"
      ],
      "metadata": {
        "colab": {
          "base_uri": "https://localhost:8080/"
        },
        "id": "1WbmOXXgVRSP",
        "outputId": "66c304ee-7463-4483-8b56-0f7f20a0fd67"
      },
      "execution_count": null,
      "outputs": [
        {
          "output_type": "stream",
          "name": "stdout",
          "text": [
            "0.39669421487603307\n"
          ]
        }
      ]
    },
    {
      "cell_type": "code",
      "source": [
        "lab.classes_"
      ],
      "metadata": {
        "colab": {
          "base_uri": "https://localhost:8080/"
        },
        "id": "fQOANdhmrCY2",
        "outputId": "924d5500-458c-49ba-d7c3-2ead45d08f53"
      },
      "execution_count": null,
      "outputs": [
        {
          "output_type": "execute_result",
          "data": {
            "text/plain": [
              "array(['Few times a month', 'Less than once a month',\n",
              "       'Multiple times a week', 'Once a month', 'Once a week'],\n",
              "      dtype=object)"
            ]
          },
          "metadata": {},
          "execution_count": 8
        }
      ]
    },
    {
      "cell_type": "code",
      "source": [
        "pd.Series(y_enc).value_counts()"
      ],
      "metadata": {
        "colab": {
          "base_uri": "https://localhost:8080/",
          "height": 241
        },
        "id": "_03-moSej7kv",
        "outputId": "881744cb-e45c-4962-856c-213a1d09b40b"
      },
      "execution_count": null,
      "outputs": [
        {
          "output_type": "execute_result",
          "data": {
            "text/plain": [
              "0    203\n",
              "1    124\n",
              "4    112\n",
              "3    107\n",
              "2     56\n",
              "Name: count, dtype: int64"
            ],
            "text/html": [
              "<div>\n",
              "<style scoped>\n",
              "    .dataframe tbody tr th:only-of-type {\n",
              "        vertical-align: middle;\n",
              "    }\n",
              "\n",
              "    .dataframe tbody tr th {\n",
              "        vertical-align: top;\n",
              "    }\n",
              "\n",
              "    .dataframe thead th {\n",
              "        text-align: right;\n",
              "    }\n",
              "</style>\n",
              "<table border=\"1\" class=\"dataframe\">\n",
              "  <thead>\n",
              "    <tr style=\"text-align: right;\">\n",
              "      <th></th>\n",
              "      <th>count</th>\n",
              "    </tr>\n",
              "  </thead>\n",
              "  <tbody>\n",
              "    <tr>\n",
              "      <th>0</th>\n",
              "      <td>203</td>\n",
              "    </tr>\n",
              "    <tr>\n",
              "      <th>1</th>\n",
              "      <td>124</td>\n",
              "    </tr>\n",
              "    <tr>\n",
              "      <th>4</th>\n",
              "      <td>112</td>\n",
              "    </tr>\n",
              "    <tr>\n",
              "      <th>3</th>\n",
              "      <td>107</td>\n",
              "    </tr>\n",
              "    <tr>\n",
              "      <th>2</th>\n",
              "      <td>56</td>\n",
              "    </tr>\n",
              "  </tbody>\n",
              "</table>\n",
              "</div><br><label><b>dtype:</b> int64</label>"
            ]
          },
          "metadata": {},
          "execution_count": 9
        }
      ]
    },
    {
      "cell_type": "code",
      "source": [
        "y.value_counts()"
      ],
      "metadata": {
        "colab": {
          "base_uri": "https://localhost:8080/",
          "height": 272
        },
        "id": "VJVSxDGjreFm",
        "outputId": "7e980543-37de-4f8d-c8f0-86f3e92c5e9f"
      },
      "execution_count": null,
      "outputs": [
        {
          "output_type": "execute_result",
          "data": {
            "text/plain": [
              "Purchase_Frequency\n",
              "Few times a month         203\n",
              "Less than once a month    124\n",
              "Once a week               112\n",
              "Once a month              107\n",
              "Multiple times a week      56\n",
              "Name: count, dtype: int64"
            ],
            "text/html": [
              "<div>\n",
              "<style scoped>\n",
              "    .dataframe tbody tr th:only-of-type {\n",
              "        vertical-align: middle;\n",
              "    }\n",
              "\n",
              "    .dataframe tbody tr th {\n",
              "        vertical-align: top;\n",
              "    }\n",
              "\n",
              "    .dataframe thead th {\n",
              "        text-align: right;\n",
              "    }\n",
              "</style>\n",
              "<table border=\"1\" class=\"dataframe\">\n",
              "  <thead>\n",
              "    <tr style=\"text-align: right;\">\n",
              "      <th></th>\n",
              "      <th>count</th>\n",
              "    </tr>\n",
              "    <tr>\n",
              "      <th>Purchase_Frequency</th>\n",
              "      <th></th>\n",
              "    </tr>\n",
              "  </thead>\n",
              "  <tbody>\n",
              "    <tr>\n",
              "      <th>Few times a month</th>\n",
              "      <td>203</td>\n",
              "    </tr>\n",
              "    <tr>\n",
              "      <th>Less than once a month</th>\n",
              "      <td>124</td>\n",
              "    </tr>\n",
              "    <tr>\n",
              "      <th>Once a week</th>\n",
              "      <td>112</td>\n",
              "    </tr>\n",
              "    <tr>\n",
              "      <th>Once a month</th>\n",
              "      <td>107</td>\n",
              "    </tr>\n",
              "    <tr>\n",
              "      <th>Multiple times a week</th>\n",
              "      <td>56</td>\n",
              "    </tr>\n",
              "  </tbody>\n",
              "</table>\n",
              "</div><br><label><b>dtype:</b> int64</label>"
            ]
          },
          "metadata": {},
          "execution_count": 10
        }
      ]
    },
    {
      "cell_type": "code",
      "source": [
        "def predict_purchase_frequency (age,Gender,Browsing_Frequency,Add_to_Cart_Browsing,Review_Reliability,Product_Search_Method,Saveforlater_Frequency):\n",
        "  customer = pd.DataFrame({\n",
        "    \"age\": [age],\n",
        "    'Gender': [Gender],\n",
        "    \"Browsing_Frequency\": [Browsing_Frequency],\n",
        "    'Add_to_Cart_Browsing': [Add_to_Cart_Browsing],\n",
        "    \"Review_Reliability\": [Review_Reliability],\n",
        "    \"Product_Search_Method\":[Product_Search_Method],\n",
        "    'Saveforlater_Frequency': [Saveforlater_Frequency],\n",
        "  })\n",
        "  X_num = customer[['age']]\n",
        "  X_cat = customer.drop(columns= 'age')\n",
        "  X_num_scaled = scaler.transform(X_num)\n",
        "  X_cat_scaled = ohe.transform(X_cat)\n",
        "  X_num_scaled = pd.DataFrame(X_num_scaled, columns=['age_scaled'], index=X_num.index)\n",
        "  X_cat_scaled = pd.DataFrame(X_cat_scaled, columns=ohe.get_feature_names_out(X_cat.columns), index=X_cat.index)\n",
        "  X_scaled = pd.concat([X_num_scaled, X_cat_scaled], axis=1)\n",
        "\n",
        "  if log_reg.predict(X_scaled) == 0:\n",
        "    return \"Purchase frequency: Few times a month\"\n",
        "  elif log_reg.predict(X_scaled) == 1:\n",
        "    return 'Purchase frequency: Less than once a month'\n",
        "  elif log_reg.predict(X_scaled) == 2:\n",
        "    return 'Purchase frequency: Multiple times a week'\n",
        "  elif log_reg.predict(X_scaled) == 3:\n",
        "    return 'Purchase frequency: Once a month'\n",
        "  elif log_reg.predict(X_scaled) == 4:\n",
        "    return 'Purchase frequency: Once a week'\n",
        "\n",
        "\n",
        "\n"
      ],
      "metadata": {
        "id": "Wyv9102BWaNg"
      },
      "execution_count": null,
      "outputs": []
    },
    {
      "cell_type": "code",
      "source": [
        "customers_clean['Saveforlater_Frequency'].unique()"
      ],
      "metadata": {
        "colab": {
          "base_uri": "https://localhost:8080/"
        },
        "id": "s4VZIBMNs4q0",
        "outputId": "8498c61a-6db4-4594-cec5-eaf7dcb0f4f8"
      },
      "execution_count": null,
      "outputs": [
        {
          "output_type": "execute_result",
          "data": {
            "text/plain": [
              "array(['Sometimes', 'Rarely', 'Never', 'Often', 'Always'], dtype=object)"
            ]
          },
          "metadata": {},
          "execution_count": 12
        }
      ]
    },
    {
      "cell_type": "code",
      "source": [
        "# @title Texto de título padrão\n",
        "Age = 20 # @param {\"type\":\"integer\"}\n",
        "Gender = \"Male\" # @param [\"Male\",\"Female\",\"Prefer not to say\",\"Others\"]\n",
        "Browsing_Frequency = \"Rarely\" # @param [\"Rarely\",\"Few times a month\",\"Few times a week\",\"Multiple times a day\"]\n",
        "Add_to_Cart_Browsing = \"No\" # @param [\"Yes\",\"No\",\"Maybe\"]\n",
        "Review_Reliability = \"Rarely\" # @param [\"Never\",\"Rarely\",\"Occasionally\",\"Moderately\",\"Heavily\"]\n",
        "Product_Search_Method = \"Filter\" # @param [\"Keyword\",\"Filter\",\"categories\",\"others\"]\n",
        "Saveforlater_Frequency = \"Sometimes\" # @param [\"Never\",\"Rarely\",\"Sometimes\",\"Often\",\"Always\"]\n",
        "\n",
        "predict_purchase_frequency (Age,Gender,Browsing_Frequency,Add_to_Cart_Browsing,Review_Reliability,Product_Search_Method,Saveforlater_Frequency)\n"
      ],
      "metadata": {
        "colab": {
          "base_uri": "https://localhost:8080/",
          "height": 36
        },
        "cellView": "form",
        "id": "mkhGjiOfwRhy",
        "outputId": "45d7a9d2-18fb-4d8b-ed59-1619e2fd7394"
      },
      "execution_count": null,
      "outputs": [
        {
          "output_type": "execute_result",
          "data": {
            "text/plain": [
              "'Purchase frequency: Less than once a month'"
            ],
            "application/vnd.google.colaboratory.intrinsic+json": {
              "type": "string"
            }
          },
          "metadata": {},
          "execution_count": 23
        }
      ]
    },
    {
      "cell_type": "code",
      "source": [
        "#X = customers_clean.drop(columns = 'Shopping_Satisfaction')\n",
        "#y = customers_clean['Shopping_Satisfaction']\n",
        "\n",
        "#y_enc = lab.fit_transform(y)\n",
        "\n",
        "#X_train, X_test, y_train, y_test = train_test_split(X, y_enc, test_size = 0.2, random_state = 42)\n",
        "\n",
        "#X_train_num = X_train[['age']]\n",
        "#X_train_cat = X_train.drop(columns = 'age')\n",
        "#X_test_num = X_test[['age']]\n",
        "#X_test_cat = X_test.drop(columns = 'age')\n",
        "\n",
        "\n",
        "#X_train_num_scaled = scaler.fit_transform(X_train_num)\n",
        "#X_test_num_scaled = scaler.transform(X_test_num)\n",
        "\n",
        "#X_train_cat_scaled = ohe.fit_transform(X_train_cat)\n",
        "#X_test_cat_scaled = ohe.transform(X_test_cat)\n",
        "\n",
        "#X_train_num_scaled = pd.DataFrame(X_train_num_scaled, columns=['age_scaled'], index=X_train.index)\n",
        "#X_train_cat_scaled = pd.DataFrame(X_train_cat_scaled, columns=ohe.get_feature_names_out(X_train_cat.columns), index=X_train.index)\n",
        "\n",
        "#X_test_num_scaled = pd.DataFrame(X_test_num_scaled, columns=['age_scaled'], index=X_test.index)\n",
        "#X_test_cat_scaled = pd.DataFrame(X_test_cat_scaled, columns=ohe.get_feature_names_out(X_test_cat.columns), index=X_test.index)\n",
        "\n",
        "#X_train_scaled = pd.concat([X_train_num_scaled, X_train_cat_scaled], axis=1)\n",
        "#X_test_scaled = pd.concat([X_test_num_scaled, X_test_cat_scaled], axis=1)\n",
        "\n",
        "#log_reg.fit(X_train_scaled, y_train)\n",
        "\n",
        "#y_pred = log_reg.predict(X_test_scaled)\n",
        "#print(log_reg.score(X_test_scaled, y_test))"
      ],
      "metadata": {
        "id": "IMTSWIiE0gFA"
      },
      "execution_count": null,
      "outputs": []
    }
  ]
}